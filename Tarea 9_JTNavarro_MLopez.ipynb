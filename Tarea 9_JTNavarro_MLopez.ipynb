{
 "cells": [
  {
   "cell_type": "markdown",
   "metadata": {},
   "source": [
    "<img style=\"float: left; margin: 30px 15px 15px 15px;\" src=\"https://pngimage.net/wp-content/uploads/2018/06/logo-iteso-png-5.png\" width=\"300\" height=\"500\" /> \n",
    "    \n",
    "    \n",
    "### <font color='navy'> Simulación de procesos financieros. \n",
    "\n",
    "**Nombres:** Tonatiuh Navarro Silva y Mariela Lopez\n",
    "\n",
    "**Fecha:** 02 de Julio del 2021\n",
    "\n",
    "**Expediente** : 722399 \n",
    "**Profesor:** Oscar David Jaramillo Zuluaga.\n",
    "    \n",
    "**Link Github**: https://github.com/if722399/Tarea-9\n",
    "\n",
    "# Tarea 9 clase 19"
   ]
  },
  {
   "cell_type": "markdown",
   "metadata": {},
   "source": [
    "# <font color = red> Tarea\n",
    "\n",
    "Demostrar **Teoricamente** usando el MLE, que los estimadores de máxima verosimilitud para los parámetros $\\mu$ y $\\sigma$ de una distribución normal, estan dados por:\n",
    "\n",
    "$$\\hat \\mu = {1\\over n}\\sum_{i=1}^n x_i,\\quad \\hat  \\sigma^2={1\\over n}\\sum_{i=1}^n (x_i-\\hat \\mu)^2$$\n",
    "\n",
    "**Recuerde que:** La distribución normal es\n",
    "$$f(x\\mid \\mu ,\\sigma ^{2})={\\frac {1}{\\sqrt {2\\pi \\sigma ^{2}}}}e^{-{\\frac {(x-\\mu )^{2}}{2\\sigma ^{2}}}}$$"
   ]
  },
  {
   "cell_type": "markdown",
   "metadata": {},
   "source": [
    "#### Codigo Tonatiuh Navarro"
   ]
  },
  {
   "cell_type": "markdown",
   "metadata": {},
   "source": [
    "Partimos de que:\n",
    "\n",
    "$$\\theta = {\\mu,\\sigma}$$\n",
    "\n",
    "La densidad de probabilidad es:\n",
    "\n",
    "$$P(x_1,x_2,x_3...x_n/\\theta) -> f(x_1,x_2,x_3...x_n/\\theta)$$\n",
    "\n",
    "Y aplicando la densidad de probabilidad conjunta:\n",
    "\n",
    "$$f(x_1,x_2,x_3...x_n/\\theta) = f(x_1/\\theta)*f(x_2/\\theta)*f(x_3/\\theta)....*f(x_n/\\theta) = \\prod_{i}^{n}f(x_i/\\theta)$$\n",
    "\n",
    "Para maximizar apicamos derivada e igualamos a 0\n",
    "\n",
    "$$\\frac{d}{d\\theta} \\sum_{i}^{n}lnf(x_i/\\theta)$$\n",
    "$$\\frac{d}{d\\theta} \\sum_{i}^{n}lnf(x_i/\\theta) = 0$$\n",
    "\n",
    "Realizamos el cambio a notaciòn gradiente:\n",
    "\n",
    "$$\\sum_{i}^{n} \\nabla_{\\mu,\\sigma} \\, lnf(x_i/\\theta) = 0$$\n",
    "\n",
    "Tomamos el gradiente respecto de $\\mu$:\n",
    "\n",
    "$$\\sum_{i}^{n} \\nabla_{\\mu,\\sigma} \\, lnf(\\frac{\\sigma\\sqrt{2\\pi}^{- \\frac{(x_i-\\mu)^2}{2\\sigma^2}}}{e}) = 0$$\n",
    "\n",
    "Simplificando:\n",
    "\n",
    "$$\\sum_{i}^{n} \\nabla_{\\mu,\\sigma} \\, - \\frac{1}{2}ln(2\\pi\\sigma^2)-\\frac{(x_i-\\mu)^2}{2\\sigma^2}$$\n",
    "\n",
    "Continuando:\n",
    "\n",
    "$$\\frac{1}{2\\sigma^2}\\sum_{i}^{n} (x_i-\\mu) $$\n",
    "\n",
    "Igualamos a 0:\n",
    "\n",
    "$$\\frac{1}{2\\sigma^2}\\sum_{i}^{n} (x_i-\\mu) = 0 \\,-> \\hat{\\sigma^2}_{MLE} = \\frac{1}{n}\\sum_{i}^{n} (x_i-\\mu) $$\n",
    "\n",
    "Con esto podemos decir que nuestra $\\mu$ òptima es independiente a la $\\sigma$ optima por lo que ahora resolveremos para $\\sigma$ tomando el gradiente con respecto a $\\sigma$\n",
    "\n",
    "\"$$ \\sum_{i}^n\\triangledown_{\\sigma} - \\frac{1}{2}\\ln(2\\pi\\sigma^2) - \\frac{(x_i - \\mu)^2}{2\\sigma^2}$$\n",
    "\n",
    "$$ \\sum_{i}^n\\triangledown_{\\sigma} - \\frac{1}{2}\\ln(2\\pi\\sigma^2) - \\frac{(x_i - \\mu)^2}{2\\sigma^2} = - \\frac{n}{2}\\triangledown_{\\sigma} \\ln\\sigma^2 - \\frac{1}{2}\\triangledown_{\\sigma}(\\frac{1}{\\sigma^2}\\sum_i^n(x_i - \\mu)^2)$$\n",
    "\n",
    "Simplificando e igualando a 0 obtenemos:\n",
    "\n",
    "$$ -\\frac{n}{\\sigma} + \\frac{1}{\\sigma^3}\\sum_i^n(x_i - \\mu)^2 = 0$$\n",
    "\n",
    "$$\\sum_i^n(x_i - \\mu)^2 = n\\sigma^2 \\rightarrow \\hat{\\sigma^2}_{MLE} = \\frac{1}{n}\\sum_i^n(x_i - \\mu)^2$$"
   ]
  },
  {
   "cell_type": "markdown",
   "metadata": {},
   "source": [
    "Codigo estudiante 2"
   ]
  }
 ],
 "metadata": {
  "kernelspec": {
   "display_name": "Python 3",
   "language": "python",
   "name": "python3"
  },
  "language_info": {
   "codemirror_mode": {
    "name": "ipython",
    "version": 3
   },
   "file_extension": ".py",
   "mimetype": "text/x-python",
   "name": "python",
   "nbconvert_exporter": "python",
   "pygments_lexer": "ipython3",
   "version": "3.8.3"
  }
 },
 "nbformat": 4,
 "nbformat_minor": 4
}
